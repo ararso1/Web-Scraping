{
 "cells": [
  {
   "cell_type": "code",
   "execution_count": 5,
   "metadata": {},
   "outputs": [],
   "source": [
    "import pandas as pd\n",
    "import requests\n",
    "from time import sleep\n",
    "from bs4 import BeautifulSoup\n",
    "import wikipedia\n",
    "#path = 'C:\\Program Files (x86)\\chromedriver.exe'\n",
    "\n",
    "#alish_excel = pd.read_csv(\"Book2.csv\")\n",
    "for i in range(1,134):\n",
    "    URL = \"https://www.coingecko.com/?page=\"+ str(i)\n",
    "    #URL = 'https://www.neuralnine.com'\n",
    "    res = requests.get(URL).text\n",
    "    sleep(5)\n",
    "    soup = BeautifulSoup(res,'lxml')\n",
    "\n",
    "    name = soup.find('table')\n",
    "    thead = name.find('thead')\n",
    "    tbody = name.find('tbody')\n",
    "    rows=tbody.find_all('tr')\n",
    "    #print(trr)\n",
    "    for j in rows:\n",
    "        data = {\n",
    "        'Name': [],\n",
    "        'Symbol': [],\n",
    "        '24h Volume': [],\n",
    "        'Description (What is)': []\n",
    "    }\n",
    "\n",
    "        pagenumber=j.find(class_='table-number')\n",
    "        coin_name=j.find(class_='lg:tw-flex')\n",
    "        symbol=j.find(class_='d-lg-inline')\n",
    "        volume=j.find(class_='td-liquidity_score')\n",
    "        result=\" \"\n",
    "        data['Name'].append(coin_name.text.strip('\\n'))\n",
    "        data['Symbol'].append(symbol.text.strip('\\n'))\n",
    "        data['24h Volume'].append(volume.text.strip('\\n'))\n",
    "        data['Description (What is)'].append(result)\n",
    "        \n",
    "        #print(pagenumber.text,coin.text,symbol.text,volum.text)\n",
    "\n",
    "        df = pd.DataFrame(data)\n",
    "        df.to_csv('data.csv', mode='a', index=False, header=False)\n"
   ]
  }
 ],
 "metadata": {
  "kernelspec": {
   "display_name": "Python 3.9.10 64-bit",
   "language": "python",
   "name": "python3"
  },
  "language_info": {
   "codemirror_mode": {
    "name": "ipython",
    "version": 3
   },
   "file_extension": ".py",
   "mimetype": "text/x-python",
   "name": "python",
   "nbconvert_exporter": "python",
   "pygments_lexer": "ipython3",
   "version": "3.9.10"
  },
  "orig_nbformat": 4,
  "vscode": {
   "interpreter": {
    "hash": "0fb545c56d73cee64911ffb6957b1875821269982a1a73e9efe9d910433a41b3"
   }
  }
 },
 "nbformat": 4,
 "nbformat_minor": 2
}
